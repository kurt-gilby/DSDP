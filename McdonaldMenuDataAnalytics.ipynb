{
 "cells": [
  {
   "cell_type": "markdown",
   "metadata": {},
   "source": [
    "### Objective:\n",
    "    Given is the nutritional value data of the Mcdonalds Menu in the United States.\n",
    "    Using the said data the following objectives are to be archived:\n",
    "        1. Identify a business question to be answered\n",
    "        2. Identify a target variable to be predicted.\n",
    "        2. Identify the features to be used to best predict the target variable.\n",
    "        3. Implement a model to predict the target variable\n",
    "#### High Level Tasks:\n",
    "    1. Import and read data--Done\n",
    "    2. Clean data and treat for any missing/non consistant values-WIP\n",
    "        1.No Missing Values Found\n",
    "        2 Got the Magnitude and Unit for each serving.\n",
    "        3.Added a Cnt Column equal to 1 for each record\n",
    "        4.Made all the Countinous data the proper data types\n",
    "        5.aligned all the columns to the left and continous to the right\n",
    "        6.Saved the dataset as csv as a check point.\n",
    "        7.Sent the project to the Team for review.\n",
    "    3. Explore data using discrete statistic to understand the data bettter--TBD\n",
    "    "
   ]
  },
  {
   "cell_type": "code",
   "execution_count": 1,
   "metadata": {},
   "outputs": [],
   "source": [
    "# import all the supporting libaries\n",
    "import pandas as pb #using pandas as it gives the flexibility of working and altering the data in a data frame"
   ]
  },
  {
   "cell_type": "markdown",
   "metadata": {},
   "source": [
    "### Import Data"
   ]
  },
  {
   "cell_type": "code",
   "execution_count": 196,
   "metadata": {},
   "outputs": [],
   "source": [
    "del df\n",
    "#Import and read data\n",
    "df = pb.read_csv('McDonald_Menu.csv')"
   ]
  },
  {
   "cell_type": "markdown",
   "metadata": {},
   "source": [
    "#### Clean up Column Names"
   ]
  },
  {
   "cell_type": "code",
   "execution_count": 197,
   "metadata": {},
   "outputs": [],
   "source": [
    "#Clean data and treat for any missing/non consistant values\n",
    "#Shorten Column Name to be more easy to read data\n",
    "\n",
    "#reference : https://stackoverflow.com/questions/39741429/pandas-replace-a-character-in-all-column-names\n",
    "#remove spaces from the column names\n",
    "df.columns=df.columns.str.replace(\" \", \"_\")\n",
    "\n",
    "\n",
    "#replace _(%_Daily_Value) with  PrDV\n",
    "df.columns=df.columns.str.replace(\"%_Daily_Value\", \"PrDV\")\n",
    "df.columns=df.columns.str.replace(\"[()]\", \"\")\n",
    "\n",
    "#Remove all the vowels in the column names\n",
    "vowels=['a','e','i','o','u']\n",
    "colmap = {}\n",
    "\n",
    "for col in df.columns:\n",
    "    col1=col\n",
    "    for v in vowels:\n",
    "        col1=col1.replace(v,'')\n",
    "    colmap[col] = col1\n",
    "df.columns = list(colmap.values())"
   ]
  },
  {
   "cell_type": "markdown",
   "metadata": {},
   "source": [
    "#### Get the magniture and Unit for each serving"
   ]
  },
  {
   "cell_type": "code",
   "execution_count": 220,
   "metadata": {},
   "outputs": [],
   "source": [
    "#Add Column serving magnitude and unit\n",
    "    #Need to use the apply() function \n",
    "#Reference https://www.youtube.com/watch?v=eMOA1pPVUc4 [39:01]\n",
    "\n",
    "#define funcition apply to get serviing size.\n",
    "def serving_size_parse(ls_seving):\n",
    "    mag_unit=[]\n",
    "    serv_split = ls_seving.split()\n",
    "    if 'g' == serv_split[-1].replace(')',''):\n",
    "        mag = serv_split[-2].replace('(','')\n",
    "        unit = serv_split[-1].replace(')','')\n",
    "    elif 'cup' == serv_split[-1] :\n",
    "        mag = serv_split[0]\n",
    "        unit = serv_split[1] + serv_split[2]\n",
    "    elif 'oz' == serv_split[-1]:\n",
    "        mag = serv_split[0]\n",
    "        unit = serv_split[1] + serv_split[2]\n",
    "    elif 'carton' == serv_split[1]:\n",
    "        mag = serv_split[-2].replace('(','')\n",
    "        unit = serv_split[-1].replace(')','')\n",
    "    elif  'fl' == serv_split[1]:\n",
    "        mag = serv_split[-2].replace('(','')\n",
    "        unit = serv_split[-1].replace(')','')\n",
    "    else:\n",
    "        mag = ''\n",
    "        unit = ''\n",
    "    mag_unit.append(ls_seving)\n",
    "    mag_unit.append(mag)\n",
    "    mag_unit.append(unit)\n",
    "    return mag_unit\n",
    "\n",
    "#Add Column serving magnitude and unit\n",
    "#Populate the value using apply\n",
    "df['Srvng_mag'] = 'Unknown'\n",
    "df['Srvng_unit'] = 'Unknown'\n",
    "df['Srvng_mag'] = df['Srvng_Sz'].apply(lambda x: serving_size_parse(x)[1])\n",
    "df['Srvng_unit'] = df['Srvng_Sz'].apply(lambda x: serving_size_parse(x)[2])"
   ]
  },
  {
   "cell_type": "markdown",
   "metadata": {},
   "source": [
    "#### Check for Missing Value"
   ]
  },
  {
   "cell_type": "code",
   "execution_count": 219,
   "metadata": {},
   "outputs": [
    {
     "data": {
      "text/html": [
       "<div>\n",
       "<style scoped>\n",
       "    .dataframe tbody tr th:only-of-type {\n",
       "        vertical-align: middle;\n",
       "    }\n",
       "\n",
       "    .dataframe tbody tr th {\n",
       "        vertical-align: top;\n",
       "    }\n",
       "\n",
       "    .dataframe thead th {\n",
       "        text-align: right;\n",
       "    }\n",
       "</style>\n",
       "<table border=\"1\" class=\"dataframe\">\n",
       "  <thead>\n",
       "    <tr style=\"text-align: right;\">\n",
       "      <th></th>\n",
       "      <th>Ctgry</th>\n",
       "      <th>Itm</th>\n",
       "      <th>Srvng_Sz</th>\n",
       "      <th>Clrs</th>\n",
       "      <th>Clrs_frm_Ft</th>\n",
       "      <th>Ttl_Ft</th>\n",
       "      <th>Ttl_Ft_PrDV</th>\n",
       "      <th>Strtd_Ft</th>\n",
       "      <th>Strtd_Ft_PrDV</th>\n",
       "      <th>Trns_Ft</th>\n",
       "      <th>...</th>\n",
       "      <th>Dtry_Fbr</th>\n",
       "      <th>Dtry_Fbr_PrDV</th>\n",
       "      <th>Sgrs</th>\n",
       "      <th>Prtn</th>\n",
       "      <th>Vtmn_A_PrDV</th>\n",
       "      <th>Vtmn_C_PrDV</th>\n",
       "      <th>Clcm_PrDV</th>\n",
       "      <th>Irn_PrDV</th>\n",
       "      <th>Srvng_mag</th>\n",
       "      <th>Srvng_unit</th>\n",
       "    </tr>\n",
       "  </thead>\n",
       "  <tbody>\n",
       "  </tbody>\n",
       "</table>\n",
       "<p>0 rows × 26 columns</p>\n",
       "</div>"
      ],
      "text/plain": [
       "Empty DataFrame\n",
       "Columns: [Ctgry, Itm, Srvng_Sz, Clrs, Clrs_frm_Ft, Ttl_Ft, Ttl_Ft_PrDV, Strtd_Ft, Strtd_Ft_PrDV, Trns_Ft, Chlstrl, Chlstrl_PrDV, Sdm, Sdm_PrDV, Crbhydrts, Crbhydrts_PrDV, Dtry_Fbr, Dtry_Fbr_PrDV, Sgrs, Prtn, Vtmn_A_PrDV, Vtmn_C_PrDV, Clcm_PrDV, Irn_PrDV, Srvng_mag, Srvng_unit]\n",
       "Index: []\n",
       "\n",
       "[0 rows x 26 columns]"
      ]
     },
     "execution_count": 219,
     "metadata": {},
     "output_type": "execute_result"
    }
   ],
   "source": [
    "#Check for NaN and Null-No Missing Values Found\n",
    "#Reference https://www.youtube.com/watch?v=eMOA1pPVUc4 [20:40]\n",
    "nan_df = df[df.isna().any(axis=1)]\n",
    "nan_df.head()\n",
    "nan_df1 = df[df.isnull().any(axis=1)]\n",
    "nan_df1.head()"
   ]
  },
  {
   "cell_type": "markdown",
   "metadata": {},
   "source": [
    "#### Set the data proper datatype for the columns"
   ]
  },
  {
   "cell_type": "code",
   "execution_count": 239,
   "metadata": {},
   "outputs": [
    {
     "name": "stdout",
     "output_type": "stream",
     "text": [
      "['Clrs', 'Clrs_frm_Ft', 'Ttl_Ft', 'Ttl_Ft_PrDV', 'Strtd_Ft', 'Strtd_Ft_PrDV', 'Trns_Ft', 'Chlstrl', 'Chlstrl_PrDV', 'Sdm', 'Sdm_PrDV', 'Crbhydrts', 'Crbhydrts_PrDV', 'Dtry_Fbr', 'Dtry_Fbr_PrDV', 'Sgrs', 'Prtn', 'Vtmn_A_PrDV', 'Vtmn_C_PrDV', 'Clcm_PrDV', 'Irn_PrDV', 'Srvng_mag']\n"
     ]
    },
    {
     "data": {
      "text/plain": [
       "Ctgry              object\n",
       "Itm                object\n",
       "Srvng_Sz           object\n",
       "Clrs                int64\n",
       "Clrs_frm_Ft         int64\n",
       "Ttl_Ft            float64\n",
       "Ttl_Ft_PrDV         int64\n",
       "Strtd_Ft          float64\n",
       "Strtd_Ft_PrDV       int64\n",
       "Trns_Ft           float64\n",
       "Chlstrl             int64\n",
       "Chlstrl_PrDV        int64\n",
       "Sdm                 int64\n",
       "Sdm_PrDV            int64\n",
       "Crbhydrts           int64\n",
       "Crbhydrts_PrDV      int64\n",
       "Dtry_Fbr            int64\n",
       "Dtry_Fbr_PrDV       int64\n",
       "Sgrs                int64\n",
       "Prtn                int64\n",
       "Vtmn_A_PrDV         int64\n",
       "Vtmn_C_PrDV         int64\n",
       "Clcm_PrDV           int64\n",
       "Irn_PrDV            int64\n",
       "Srvng_mag          object\n",
       "Srvng_unit         object\n",
       "dtype: object"
      ]
     },
     "execution_count": 239,
     "metadata": {},
     "output_type": "execute_result"
    }
   ],
   "source": [
    "#Loop Through all cols and set datatype as needed\n",
    "#Reference : https://stackoverflow.com/questions/15891038/change-data-type-of-columns-in-pandas\n",
    "    #https://www.w3resource.com/pandas/dataframe/dataframe-dtypes.php\n",
    "numeric_col_ls = ['Clrs','Clrs_frm_Ft','Ttl_Ft','Ttl_Ft_PrDV','Strtd_Ft','Strtd_Ft_PrDV','Trns_Ft','Chlstrl','Chlstrl_PrDV','Sdm','Sdm_PrDV','Crbhydrts','Crbhydrts_PrDV','Dtry_Fbr','Dtry_Fbr_PrDV','Sgrs','Prtn','Vtmn_A_PrDV','Vtmn_C_PrDV','Clcm_PrDV','Irn_PrDV','Srvng_mag']\n",
    "print(numeric_col_ls)\n",
    "\n",
    "for col in df.columns:\n",
    "    if col in numeric_col_ls:\n",
    "        pb.to_numeric(df[col])\n",
    "pb.to_numeric(df['Srvng_mag'])\n",
    "df.dtypes\n"
   ]
  }
 ],
 "metadata": {
  "kernelspec": {
   "display_name": "Python 3",
   "language": "python",
   "name": "python3"
  },
  "language_info": {
   "codemirror_mode": {
    "name": "ipython",
    "version": 3
   },
   "file_extension": ".py",
   "mimetype": "text/x-python",
   "name": "python",
   "nbconvert_exporter": "python",
   "pygments_lexer": "ipython3",
   "version": "3.7.4"
  }
 },
 "nbformat": 4,
 "nbformat_minor": 2
}
