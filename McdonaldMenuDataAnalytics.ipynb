{
 "cells": [
  {
   "cell_type": "markdown",
   "metadata": {},
   "source": [
    "# DSDP Project"
   ]
  },
  {
   "cell_type": "markdown",
   "metadata": {},
   "source": [
    "## Objective:\n",
    "Given is the nutritional value data of the Mcdonalds Menu in the United States.<br>Using the said data the following objectives are to be archived:\n",
    "1. Identify a business question to be answered:-\n",
    "    * For new items added to the Menu can we predict the Cholestrol amounts.\n",
    "    * Given that we know the *List Features here*\n",
    "2. Identify a target variable to be predicted.\n",
    "    * Cholestrol content in gms.\n",
    "2. Identify model to be used for prediction.\n",
    "    * Linear, Ridge and Lasso is tested.\n",
    "3. Identify the features to be used to best predict the target variable.\n",
    "    * Use Filter Feature Selection"
   ]
  },
  {
   "cell_type": "markdown",
   "metadata": {},
   "source": [
    "### Import and read data"
   ]
  },
  {
   "cell_type": "code",
   "execution_count": 68,
   "metadata": {},
   "outputs": [],
   "source": [
    "# import all the supporting libaries need to import the data.\n",
    "import pandas as pd #using pandas as it gives the flexibility of working and altering the data in a data frame\n",
    "\n",
    "# Read the file into a pandas dataframe\n",
    "pd.set_option('display.max_columns', 50)\n",
    "if 'df' in locals():\n",
    "    del df\n",
    "#Import and read data\n",
    "menu_data = pd.read_csv('McDonald_Menu.csv')\n",
    "#display(menu_data.head())\n",
    "#display(menu_data.columns)"
   ]
  },
  {
   "cell_type": "markdown",
   "metadata": {},
   "source": [
    "### Clean Data"
   ]
  },
  {
   "cell_type": "markdown",
   "metadata": {},
   "source": [
    "#### Shorten Column Names, Remove Spaces and Speacial Caracters"
   ]
  },
  {
   "cell_type": "code",
   "execution_count": 70,
   "metadata": {},
   "outputs": [],
   "source": [
    "# import all the supporting libaries need to Clean the data.\n",
    "import re #using regex to be able to remove special characters.\n",
    "\n",
    "# Remove spaces from the column names\n",
    "# Find \"%_Daily_Value\" in column name and repalce it with \"PrDV\"\n",
    "# Find \"( and )\" in column name and remove\n",
    "# str.replace() is used \n",
    "menu_data.columns=menu_data.columns.str.replace(\" \", \"_\") \n",
    "menu_data.columns=menu_data.columns.str.replace(\"%_Daily_Value\", \"PrDV\") \n",
    "menu_data.columns=menu_data.columns.str.replace(\"[()]\", \"\") \n",
    "\n",
    "# remove all vowels from column names\n",
    "vowels=['a','e','i','o','u']\n",
    "colmap = {}\n",
    "for col in menu_data.columns:\n",
    "    col1=col\n",
    "    for v in vowels:\n",
    "        col1=col1.replace(v,'')\n",
    "    colmap[col] = col1\n",
    "menu_data.columns = list(colmap.values())\n",
    "#display(menu_data.head())"
   ]
  },
  {
   "cell_type": "markdown",
   "metadata": {},
   "source": [
    "#### Serving size needs to be split into magnitude and unit columns"
   ]
  },
  {
   "cell_type": "code",
   "execution_count": 71,
   "metadata": {
    "scrolled": true
   },
   "outputs": [],
   "source": [
    "# Add Column serving magnitude and unit\n",
    "menu_data['Srvng_mag'] = 'Unknown'\n",
    "menu_data['Srvng_unit'] = 'Unknown'\n",
    "\n",
    "# Function to take the value of Serving Size\n",
    "# and return the magnitude and unit\n",
    "def serving_size_parse(ls_seving):\n",
    "    # Checks for the words \"g\", \"cup\", \"oz\", \"carton\", \"fl\"\n",
    "    # base on the word splits string to give magnitue and unit\n",
    "    # Returns list of Serving Size row value, magnitue and unit\n",
    "    mag_unit=[]\n",
    "    serv_split = ls_seving.split()\n",
    "    \n",
    "    if 'g' == serv_split[-1].replace(')',''):\n",
    "        mag = serv_split[-2].replace('(','')\n",
    "        unit = serv_split[-1].replace(')','')\n",
    "    elif 'cup' == serv_split[-1] :\n",
    "        mag = serv_split[0]\n",
    "        unit = serv_split[1] + serv_split[2]\n",
    "    elif 'oz' == serv_split[-1]:\n",
    "        mag = serv_split[0]\n",
    "        unit = serv_split[1] + serv_split[2]\n",
    "    elif 'carton' == serv_split[1]:\n",
    "        mag = serv_split[-2].replace('(','')\n",
    "        unit = serv_split[-1].replace(')','')\n",
    "    elif  'fl' == serv_split[1]:\n",
    "        mag = serv_split[-2].replace('(','')\n",
    "        unit = serv_split[-1].replace(')','')\n",
    "    else:\n",
    "        mag = ''\n",
    "        unit = ''\n",
    "        \n",
    "    mag_unit.append(ls_seving)\n",
    "    mag_unit.append(mag)\n",
    "    mag_unit.append(unit)\n",
    "    return mag_unit\n",
    "\n",
    "# Use apply() function on the dataframe\n",
    "# Reference https://www.youtube.com/watch?v=eMOA1pPVUc4 [39:01]\n",
    "# Populate the magnitude and unit using apply\n",
    "menu_data['Srvng_mag'] = menu_data['Srvng_Sz'].apply(lambda x: serving_size_parse(x)[1])\n",
    "menu_data['Srvng_unit'] = menu_data['Srvng_Sz'].apply(lambda x: serving_size_parse(x)[2])\n",
    "menu_data['Srvng_mag'] = menu_data['Srvng_mag'].apply(lambda x: float(x))\n",
    "\n",
    "#Change mg to g\n",
    "menu_data['Chlstrl']=menu_data['Chlstrl'].apply(lambda x: float(x)/1000)\n",
    "menu_data['Sdm']=menu_data['Sdm'].apply(lambda x: float(x)/1000)\n",
    "\n",
    "#Change floz to ml\n",
    "menu_data.loc[menu_data['Srvng_unit']=='floz','Srvng_mag'] = menu_data['Srvng_mag'].apply(lambda x: float(x)*29.574)\n",
    "menu_data.loc[menu_data['Srvng_unit']=='floz','Srvng_unit'] = 'ml'\n",
    "\n",
    "#display(menu_data.head())"
   ]
  },
  {
   "cell_type": "markdown",
   "metadata": {},
   "source": [
    "#### Drop Serving Size and Item and all Daily value columns"
   ]
  },
  {
   "cell_type": "code",
   "execution_count": 73,
   "metadata": {},
   "outputs": [],
   "source": [
    "menu_data = menu_data.drop(labels=['Srvng_Sz','Itm'], axis=1)\n",
    "menu_data = menu_data.drop(labels=[col for col in menu_data.columns if 'PrDV' in col], axis=1)"
   ]
  },
  {
   "cell_type": "markdown",
   "metadata": {},
   "source": [
    "#### Check for Missing values"
   ]
  },
  {
   "cell_type": "code",
   "execution_count": 77,
   "metadata": {},
   "outputs": [
    {
     "data": {
      "text/plain": [
       "Ctgry          0\n",
       "Clrs           0\n",
       "Clrs_frm_Ft    0\n",
       "Ttl_Ft         0\n",
       "Strtd_Ft       0\n",
       "Trns_Ft        0\n",
       "Chlstrl        0\n",
       "Sdm            0\n",
       "Crbhydrts      0\n",
       "Dtry_Fbr       0\n",
       "Sgrs           0\n",
       "Prtn           0\n",
       "Srvng_mag      0\n",
       "Srvng_unit     0\n",
       "dtype: int64"
      ]
     },
     "execution_count": 77,
     "metadata": {},
     "output_type": "execute_result"
    }
   ],
   "source": [
    "#Check for NaN and Null-No Missing Values Found\n",
    "menu_data.isnull().sum()"
   ]
  },
  {
   "cell_type": "markdown",
   "metadata": {},
   "source": [
    "#### Add Dummy Columns for Category and Unit"
   ]
  },
  {
   "cell_type": "code",
   "execution_count": 79,
   "metadata": {},
   "outputs": [],
   "source": [
    "menu_data = pd.get_dummies(menu_data, columns = ['Ctgry','Srvng_unit'],drop_first=True)"
   ]
  },
  {
   "cell_type": "markdown",
   "metadata": {},
   "source": [
    "### Split data into train and test"
   ]
  },
  {
   "cell_type": "code",
   "execution_count": 231,
   "metadata": {},
   "outputs": [
    {
     "data": {
      "text/plain": [
       "((182, 20), (182,), (78, 20), (78,))"
      ]
     },
     "execution_count": 231,
     "metadata": {},
     "output_type": "execute_result"
    }
   ],
   "source": [
    "# Imported to split data into train and test\n",
    "from sklearn.model_selection import train_test_split\n",
    "\n",
    "# Split data into train and test\n",
    "menu_data_train, menu_data_test = train_test_split( menu_data, train_size = .7,random_state = 99)\n",
    "\n",
    "# Split data into X_train, X_test and y_train and y_test\n",
    "X_train = menu_data_train.drop(labels=['Chlstrl'], axis=1)\n",
    "X_test = menu_data_test.drop(labels=['Chlstrl'], axis=1)\n",
    "\n",
    "y_train = menu_data_train.Chlstrl\n",
    "y_test = menu_data_test.Chlstrl\n",
    "\n",
    "X_train.shape, y_train.shape, X_test.shape, y_test.shape"
   ]
  },
  {
   "cell_type": "markdown",
   "metadata": {},
   "source": [
    "### Check Linear Regression Model to use"
   ]
  },
  {
   "cell_type": "markdown",
   "metadata": {},
   "source": [
    "#### Import the Models to Use"
   ]
  },
  {
   "cell_type": "code",
   "execution_count": 225,
   "metadata": {},
   "outputs": [],
   "source": [
    "# Imported to split data into train and test\n",
    "from sklearn.linear_model import LinearRegression, Ridge, Lasso\n",
    "from sklearn.model_selection import cross_val_score\n",
    "from sklearn.metrics import accuracy_score\n",
    "\n",
    "models=[]\n",
    "lr = LinearRegression(normalize=True)\n",
    "models.append(lr)\n",
    "rr = Ridge(normalize=True)\n",
    "models.append(rr)\n",
    "lar = Lasso(normalize=True)\n",
    "models.append(lar)"
   ]
  },
  {
   "cell_type": "markdown",
   "metadata": {},
   "source": [
    "#### Test individual Models\n",
    "##### Only Ridge Reggression with an alpa value of 1 for regularizarion seems to have some potiential for predicting cholestrol"
   ]
  },
  {
   "cell_type": "code",
   "execution_count": 226,
   "metadata": {},
   "outputs": [
    {
     "name": "stdout",
     "output_type": "stream",
     "text": [
      "Name model: LinearRegression , r2 Mean score: 0.1652093024650457\n",
      "Name model: Ridge , r2 Mean score: 0.362439660395494\n",
      "Name model: Lasso , r2 Mean score: -0.02619218270844974\n"
     ]
    }
   ],
   "source": [
    "for model in models:\n",
    "    scores = cross_val_score(model, X_train, y_train, cv=5, scoring='r2')\n",
    "    model_name = type(model).__name__\n",
    "    print(f'Name model: {model_name} , r2 Mean score: {scores.mean()}')"
   ]
  },
  {
   "cell_type": "markdown",
   "metadata": {},
   "source": [
    "#### Feature selection using Filter method\n",
    "##### Check for Constants,Quasi-Constants and duplicates"
   ]
  },
  {
   "cell_type": "code",
   "execution_count": 239,
   "metadata": {},
   "outputs": [
    {
     "data": {
      "text/plain": [
       "[False,\n",
       " False,\n",
       " False,\n",
       " False,\n",
       " False,\n",
       " False,\n",
       " False,\n",
       " False,\n",
       " False,\n",
       " False,\n",
       " False,\n",
       " False,\n",
       " False,\n",
       " False,\n",
       " False,\n",
       " False,\n",
       " False,\n",
       " False,\n",
       " False,\n",
       " False]"
      ]
     },
     "execution_count": 239,
     "metadata": {},
     "output_type": "execute_result"
    }
   ],
   "source": [
    "# Import needed libaries\n",
    "from sklearn.feature_selection import VarianceThreshold\n",
    "\n",
    "constant_filter = VarianceThreshold(threshold=0)\n",
    "constant_filter.fit(X_train)\n",
    "constant_filter.get_support().sum()\n",
    "constant_list = [not bol for bol in constant_filter.get_support()]\n",
    "constant_list\n",
    "#No Constant Features Found\n"
   ]
  },
  {
   "cell_type": "code",
   "execution_count": 241,
   "metadata": {},
   "outputs": [
    {
     "data": {
      "text/plain": [
       "[False,\n",
       " False,\n",
       " False,\n",
       " False,\n",
       " False,\n",
       " False,\n",
       " False,\n",
       " False,\n",
       " False,\n",
       " False,\n",
       " False,\n",
       " False,\n",
       " False,\n",
       " False,\n",
       " False,\n",
       " False,\n",
       " False,\n",
       " False,\n",
       " False,\n",
       " False]"
      ]
     },
     "execution_count": 241,
     "metadata": {},
     "output_type": "execute_result"
    }
   ],
   "source": [
    "quasi_constant_filter = VarianceThreshold(threshold=0.01)\n",
    "quasi_constant_filter.fit(X_train)\n",
    "quasi_constant_filter.get_support().sum()\n",
    "quasi_constant_filter = [not bol for bol in constant_filter.get_support()]\n",
    "quasi_constant_filter\n",
    "#No Quasi Constant Features Found"
   ]
  },
  {
   "cell_type": "code",
   "execution_count": 242,
   "metadata": {},
   "outputs": [],
   "source": [
    "X_train_T = X_train.T\n",
    "X_test_T = X_test.T"
   ]
  },
  {
   "cell_type": "code",
   "execution_count": 243,
   "metadata": {},
   "outputs": [],
   "source": [
    "X_train_T = pd.DataFrame(X_train_T)\n",
    "X_test_T = pd.DataFrame(X_test_T)"
   ]
  },
  {
   "cell_type": "code",
   "execution_count": 244,
   "metadata": {},
   "outputs": [
    {
     "data": {
      "text/plain": [
       "((20, 182), (20, 78))"
      ]
     },
     "execution_count": 244,
     "metadata": {},
     "output_type": "execute_result"
    }
   ],
   "source": [
    "X_train_T.shape , X_test_T.shape"
   ]
  },
  {
   "cell_type": "code",
   "execution_count": 245,
   "metadata": {},
   "outputs": [
    {
     "data": {
      "text/plain": [
       "0"
      ]
     },
     "execution_count": 245,
     "metadata": {},
     "output_type": "execute_result"
    }
   ],
   "source": [
    "X_train_T.duplicated().sum()\n",
    "#No Duplicates found."
   ]
  },
  {
   "cell_type": "markdown",
   "metadata": {},
   "source": [
    "##### Check for features which are highly Correlated with Target"
   ]
  },
  {
   "cell_type": "code",
   "execution_count": 256,
   "metadata": {},
   "outputs": [],
   "source": [
    "train_data = pd.concat([X_train,y_train], axis=1)\n",
    "train_data\n",
    "corrmat = train_data.corr()"
   ]
  },
  {
   "cell_type": "code",
   "execution_count": 257,
   "metadata": {},
   "outputs": [
    {
     "data": {
      "text/plain": [
       "<matplotlib.axes._subplots.AxesSubplot at 0x16e57258808>"
      ]
     },
     "execution_count": 257,
     "metadata": {},
     "output_type": "execute_result"
    },
    {
     "data": {
      "image/png": "[encoded data removed]",
      "text/plain": [
       "<Figure size 864x576 with 2 Axes>"
      ]
     },
     "metadata": {
      "needs_background": "light"
     },
     "output_type": "display_data"
    }
   ],
   "source": [
    "import matplotlib.pyplot as plt #used for graphing and ploting\n",
    "import seaborn as sns #used for graphing and ploting\n",
    "\n",
    "plt.figure(figsize=(12,8))\n",
    "sns.heatmap(corrmat)"
   ]
  },
  {
   "cell_type": "code",
   "execution_count": 283,
   "metadata": {},
   "outputs": [
    {
     "data": {
      "text/plain": [
       "['Clrs', 'Clrs_frm_Ft', 'Ttl_Ft', 'Strtd_Ft', 'Sdm', 'Prtn']"
      ]
     },
     "execution_count": 283,
     "metadata": {},
     "output_type": "execute_result"
    }
   ],
   "source": [
    "#Correlation with output variable\n",
    "target = 'Chlstrl'\n",
    "cor_target = abs(corrmat[target])\n",
    "relevant_features = cor_target[cor_target>0.5]\n",
    "relevant_features = np.array(relevant_features.index)\n",
    "relevant_features.remove(target)\n",
    "relevant_features"
   ]
  },
  {
   "cell_type": "code",
   "execution_count": 286,
   "metadata": {},
   "outputs": [],
   "source": [
    "# Create Data set only with the highly correlated Features\n",
    "X_train_corr = X_train[relevant_features]\n",
    "X_test_corr = X_test[relevant_features]"
   ]
  },
  {
   "cell_type": "code",
   "execution_count": 289,
   "metadata": {},
   "outputs": [
    {
     "name": "stdout",
     "output_type": "stream",
     "text": [
      "Name model: Ridge , r2 Mean score: 0.35817784035066574\n"
     ]
    }
   ],
   "source": [
    "# Test the ridge Model with the new features\n",
    "scores = cross_val_score(rr, X_train_corr, y_train, cv=5, scoring='r2')\n",
    "model_name = type(rr).__name__\n",
    "print(f'Name model: {model_name} , r2 Mean score: {scores.mean()}')"
   ]
  },
  {
   "cell_type": "markdown",
   "metadata": {},
   "source": [
    "#### Check and remove any inter correlated Features"
   ]
  },
  {
   "cell_type": "code",
   "execution_count": 292,
   "metadata": {},
   "outputs": [
    {
     "data": {
      "image/png": "[encoded data removed]",
      "text/plain": [
       "<Figure size 864x576 with 2 Axes>"
      ]
     },
     "metadata": {
      "needs_background": "light"
     },
     "output_type": "display_data"
    }
   ],
   "source": [
    "corrmat = X_train_corr.corr()\n",
    "plt.figure(figsize=(12,8))\n",
    "sns.heatmap(corrmat)\n",
    "plt.show()"
   ]
  },
  {
   "cell_type": "code",
   "execution_count": 293,
   "metadata": {},
   "outputs": [],
   "source": [
    "def get_correlation(data, threshold):\n",
    "    corr_col = set()\n",
    "    corrmat = data.corr()\n",
    "    for i in range(len(corrmat.columns)):\n",
    "        for j in range(i):\n",
    "            if abs(corrmat.iloc[i, j]) > threshold:\n",
    "                colname = corrmat.columns[i]\n",
    "                corr_col.add(colname)\n",
    "    return corr_col"
   ]
  },
  {
   "cell_type": "code",
   "execution_count": 296,
   "metadata": {},
   "outputs": [
    {
     "data": {
      "text/plain": [
       "{'Clrs_frm_Ft', 'Strtd_Ft', 'Ttl_Ft'}"
      ]
     },
     "execution_count": 296,
     "metadata": {},
     "output_type": "execute_result"
    }
   ],
   "source": [
    "corr_features = get_correlation(X_train_corr,0.85)\n",
    "corr_features"
   ]
  }
 ],
 "metadata": {
  "kernelspec": {
   "display_name": "Python 3",
   "language": "python",
   "name": "python3"
  },
  "language_info": {
   "codemirror_mode": {
    "name": "ipython",
    "version": 3
   },
   "file_extension": ".py",
   "mimetype": "text/x-python",
   "name": "python",
   "nbconvert_exporter": "python",
   "pygments_lexer": "ipython3",
   "version": "3.7.4"
  }
 },
 "nbformat": 4,
 "nbformat_minor": 2
}
